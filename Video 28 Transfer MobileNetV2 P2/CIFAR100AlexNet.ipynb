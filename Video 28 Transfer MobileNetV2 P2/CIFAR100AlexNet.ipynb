{
  "nbformat": 4,
  "nbformat_minor": 0,
  "metadata": {
    "colab": {
      "name": "CIFAR100AlexNet.ipynb",
      "provenance": [],
      "collapsed_sections": []
    },
    "kernelspec": {
      "name": "python3",
      "display_name": "Python 3"
    },
    "language_info": {
      "name": "python"
    },
    "accelerator": "GPU"
  },
  "cells": [
    {
      "cell_type": "code",
      "metadata": {
        "id": "GSAf4dbVo4EC"
      },
      "source": [
        "import tensorflow as tf\n",
        "import numpy as np\n",
        "import cv2\n",
        "from keras import backend as K\n",
        "\n",
        "from tensorflow import keras\n",
        "from keras.utils import np_utils\n",
        "from tensorflow.keras import datasets, layers, models\n",
        "import matplotlib.pyplot as plt"
      ],
      "execution_count": null,
      "outputs": []
    },
    {
      "cell_type": "code",
      "metadata": {
        "colab": {
          "base_uri": "https://localhost:8080/"
        },
        "id": "GC9bBjzrscxr",
        "outputId": "32913895-d29a-49b9-dd53-34f4b7784914"
      },
      "source": [
        "import tensorflow as tf\n",
        "device_name = tf.test.gpu_device_name()\n",
        "if device_name != '/device:GPU:0':\n",
        "  raise SystemError('GPU device not found')\n",
        "print('Found GPU at: {}'.format(device_name))"
      ],
      "execution_count": null,
      "outputs": [
        {
          "output_type": "stream",
          "name": "stdout",
          "text": [
            "Found GPU at: /device:GPU:0\n"
          ]
        }
      ]
    },
    {
      "cell_type": "code",
      "metadata": {
        "id": "_mFBw2XwpAZD",
        "colab": {
          "base_uri": "https://localhost:8080/"
        },
        "outputId": "e48d2914-629e-49af-cb43-82e9b0a5c818"
      },
      "source": [
        "(train_images, train_labels), (test_images, test_labels) = datasets.cifar10.load_data()\n",
        "\n",
        "train_images, test_images = train_images / 255.0, test_images / 255.0"
      ],
      "execution_count": null,
      "outputs": [
        {
          "output_type": "stream",
          "name": "stdout",
          "text": [
            "Downloading data from https://www.cs.toronto.edu/~kriz/cifar-10-python.tar.gz\n",
            "170500096/170498071 [==============================] - 6s 0us/step\n",
            "170508288/170498071 [==============================] - 6s 0us/step\n"
          ]
        }
      ]
    },
    {
      "cell_type": "code",
      "source": [
        "train_labelsH = np_utils.to_categorical(train_labels)\n",
        "test_labelsH = np_utils.to_categorical(test_labels)"
      ],
      "metadata": {
        "id": "MKZEGVlTvdef"
      },
      "execution_count": null,
      "outputs": []
    },
    {
      "cell_type": "code",
      "source": [
        "train_images.shape"
      ],
      "metadata": {
        "colab": {
          "base_uri": "https://localhost:8080/"
        },
        "id": "Gi-i7gQzSwzk",
        "outputId": "8d108934-5105-4e3e-a4d8-678aba881324"
      },
      "execution_count": null,
      "outputs": [
        {
          "output_type": "execute_result",
          "data": {
            "text/plain": [
              "(50000, 32, 32, 3)"
            ]
          },
          "metadata": {},
          "execution_count": 4
        }
      ]
    },
    {
      "cell_type": "code",
      "source": [
        "img_rows=224\n",
        "img_cols=224\n",
        "nb_train_samples = 50000 # 3000 training samples\n",
        "X_train = np.array([cv2.resize(img.transpose(1,2,0), (img_rows,img_cols)).transpose(2,0,1) for img in train_images[:nb_train_samples,:,:,:]])"
      ],
      "metadata": {
        "id": "3lrX8Bxk2G3e"
      },
      "execution_count": null,
      "outputs": []
    },
    {
      "cell_type": "code",
      "source": [
        "model = keras.models.Sequential([\n",
        "    keras.Input(shape=(32, 32, 3)),\n",
        "    keras.layers.Resizing(224,224),\n",
        "    #keras.layers.Conv2D(filters=96, kernel_size=(11,11), strides=(4,4), activation='relu', input_shape=(224,224,3)),\n",
        "    keras.layers.Conv2D(filters=96, kernel_size=(11,11), strides=(4,4), activation='relu'),\n",
        "    keras.layers.BatchNormalization(),\n",
        "    keras.layers.MaxPool2D(pool_size=(3,3), strides=(2,2)),\n",
        "    keras.layers.Conv2D(filters=256, kernel_size=(5,5), strides=(1,1), activation='relu', padding=\"same\"),\n",
        "    keras.layers.BatchNormalization(),\n",
        "    keras.layers.MaxPool2D(pool_size=(3,3), strides=(2,2)),\n",
        "    keras.layers.Conv2D(filters=384, kernel_size=(3,3), strides=(1,1), activation='relu', padding=\"same\"),\n",
        "    keras.layers.BatchNormalization(),\n",
        "    keras.layers.Conv2D(filters=384, kernel_size=(3,3), strides=(1,1), activation='relu', padding=\"same\"),\n",
        "    keras.layers.BatchNormalization(),\n",
        "    keras.layers.Conv2D(filters=256, kernel_size=(3,3), strides=(1,1), activation='relu', padding=\"same\"),\n",
        "    keras.layers.BatchNormalization(),\n",
        "    keras.layers.MaxPool2D(pool_size=(3,3), strides=(2,2)),\n",
        "    keras.layers.Flatten(),\n",
        "    keras.layers.Dense(4096, activation='relu'),\n",
        "    keras.layers.Dropout(0.5),\n",
        "    keras.layers.Dense(4096, activation='relu'),\n",
        "    keras.layers.Dropout(0.5),\n",
        "    keras.layers.Dense(10, activation='softmax')\n",
        "])"
      ],
      "metadata": {
        "id": "zApjqW1kFyyA"
      },
      "execution_count": null,
      "outputs": []
    },
    {
      "cell_type": "code",
      "source": [
        "model.summary()"
      ],
      "metadata": {
        "colab": {
          "base_uri": "https://localhost:8080/"
        },
        "id": "24FMb5uMtUXK",
        "outputId": "886c1724-fd61-4500-96aa-f431ba23f588"
      },
      "execution_count": null,
      "outputs": [
        {
          "output_type": "stream",
          "name": "stdout",
          "text": [
            "Model: \"sequential_3\"\n",
            "_________________________________________________________________\n",
            " Layer (type)                Output Shape              Param #   \n",
            "=================================================================\n",
            " resizing_1 (Resizing)       (None, 224, 224, 3)       0         \n",
            "                                                                 \n",
            " conv2d_14 (Conv2D)          (None, 54, 54, 96)        34944     \n",
            "                                                                 \n",
            " batch_normalization_10 (Bat  (None, 54, 54, 96)       384       \n",
            " chNormalization)                                                \n",
            "                                                                 \n",
            " max_pooling2d_9 (MaxPooling  (None, 26, 26, 96)       0         \n",
            " 2D)                                                             \n",
            "                                                                 \n",
            " conv2d_15 (Conv2D)          (None, 26, 26, 256)       614656    \n",
            "                                                                 \n",
            " batch_normalization_11 (Bat  (None, 26, 26, 256)      1024      \n",
            " chNormalization)                                                \n",
            "                                                                 \n",
            " max_pooling2d_10 (MaxPoolin  (None, 12, 12, 256)      0         \n",
            " g2D)                                                            \n",
            "                                                                 \n",
            " conv2d_16 (Conv2D)          (None, 12, 12, 384)       885120    \n",
            "                                                                 \n",
            " batch_normalization_12 (Bat  (None, 12, 12, 384)      1536      \n",
            " chNormalization)                                                \n",
            "                                                                 \n",
            " conv2d_17 (Conv2D)          (None, 12, 12, 384)       1327488   \n",
            "                                                                 \n",
            " batch_normalization_13 (Bat  (None, 12, 12, 384)      1536      \n",
            " chNormalization)                                                \n",
            "                                                                 \n",
            " conv2d_18 (Conv2D)          (None, 12, 12, 256)       884992    \n",
            "                                                                 \n",
            " batch_normalization_14 (Bat  (None, 12, 12, 256)      1024      \n",
            " chNormalization)                                                \n",
            "                                                                 \n",
            " max_pooling2d_11 (MaxPoolin  (None, 5, 5, 256)        0         \n",
            " g2D)                                                            \n",
            "                                                                 \n",
            " flatten_3 (Flatten)         (None, 6400)              0         \n",
            "                                                                 \n",
            " dense_9 (Dense)             (None, 4096)              26218496  \n",
            "                                                                 \n",
            " dropout_4 (Dropout)         (None, 4096)              0         \n",
            "                                                                 \n",
            " dense_10 (Dense)            (None, 4096)              16781312  \n",
            "                                                                 \n",
            " dropout_5 (Dropout)         (None, 4096)              0         \n",
            "                                                                 \n",
            " dense_11 (Dense)            (None, 10)                40970     \n",
            "                                                                 \n",
            "=================================================================\n",
            "Total params: 46,793,482\n",
            "Trainable params: 46,790,730\n",
            "Non-trainable params: 2,752\n",
            "_________________________________________________________________\n"
          ]
        }
      ]
    },
    {
      "cell_type": "code",
      "source": [
        "opt = keras.optimizers.Adam(learning_rate=0.001)\n",
        "model.compile(optimizer=opt,loss=\"categorical_crossentropy\",metrics=['accuracy'])"
      ],
      "metadata": {
        "id": "s5TP3TDEHU5m"
      },
      "execution_count": null,
      "outputs": []
    },
    {
      "cell_type": "code",
      "source": [
        "model.fit(train_images, train_labelsH, epochs=20, batch_size=200, validation_data=(test_images, test_labelsH))\n",
        "#model.fit(train_ds, epochs=50, validation_data=validation_ds, validation_freq=1)\n",
        "#,\n",
        "#          callbacks=[tensorboard_cb])"
      ],
      "metadata": {
        "colab": {
          "base_uri": "https://localhost:8080/"
        },
        "id": "BGhtCl69HXaa",
        "outputId": "a0c4d405-de10-45b4-b8a9-6aef77cbce89"
      },
      "execution_count": null,
      "outputs": [
        {
          "output_type": "stream",
          "name": "stdout",
          "text": [
            "Epoch 1/20\n",
            "250/250 [==============================] - 117s 419ms/step - loss: 2.6205 - accuracy: 0.3122 - val_loss: 2.4421 - val_accuracy: 0.2315\n",
            "Epoch 2/20\n",
            "250/250 [==============================] - 105s 420ms/step - loss: 1.4885 - accuracy: 0.4627 - val_loss: 1.8191 - val_accuracy: 0.3489\n",
            "Epoch 3/20\n",
            "250/250 [==============================] - 101s 405ms/step - loss: 1.3270 - accuracy: 0.5309 - val_loss: 1.3091 - val_accuracy: 0.5471\n",
            "Epoch 4/20\n",
            "250/250 [==============================] - 105s 421ms/step - loss: 1.1960 - accuracy: 0.5817 - val_loss: 1.3165 - val_accuracy: 0.5161\n",
            "Epoch 5/20\n",
            "250/250 [==============================] - 105s 422ms/step - loss: 1.0936 - accuracy: 0.6210 - val_loss: 1.3222 - val_accuracy: 0.5520\n",
            "Epoch 6/20\n",
            "250/250 [==============================] - 101s 406ms/step - loss: 0.9992 - accuracy: 0.6536 - val_loss: 1.1942 - val_accuracy: 0.5915\n",
            "Epoch 7/20\n",
            "250/250 [==============================] - 102s 407ms/step - loss: 0.9101 - accuracy: 0.6902 - val_loss: 1.5289 - val_accuracy: 0.4878\n",
            "Epoch 8/20\n",
            "250/250 [==============================] - 101s 406ms/step - loss: 0.8359 - accuracy: 0.7177 - val_loss: 0.8803 - val_accuracy: 0.7088\n",
            "Epoch 9/20\n",
            "250/250 [==============================] - 105s 421ms/step - loss: 0.7343 - accuracy: 0.7503 - val_loss: 1.1169 - val_accuracy: 0.6291\n",
            "Epoch 10/20\n",
            "250/250 [==============================] - 102s 406ms/step - loss: 0.6664 - accuracy: 0.7738 - val_loss: 0.9252 - val_accuracy: 0.6968\n",
            "Epoch 11/20\n",
            "250/250 [==============================] - 105s 421ms/step - loss: 0.5974 - accuracy: 0.8013 - val_loss: 0.7423 - val_accuracy: 0.7617\n",
            "Epoch 12/20\n",
            "250/250 [==============================] - 105s 420ms/step - loss: 0.5314 - accuracy: 0.8219 - val_loss: 0.8691 - val_accuracy: 0.7214\n",
            "Epoch 13/20\n",
            "250/250 [==============================] - 105s 421ms/step - loss: 0.4730 - accuracy: 0.8410 - val_loss: 0.6644 - val_accuracy: 0.7849\n",
            "Epoch 14/20\n",
            "250/250 [==============================] - 105s 421ms/step - loss: 0.4290 - accuracy: 0.8566 - val_loss: 0.7637 - val_accuracy: 0.7487\n",
            "Epoch 15/20\n",
            "250/250 [==============================] - 101s 405ms/step - loss: 0.3791 - accuracy: 0.8726 - val_loss: 0.7940 - val_accuracy: 0.7428\n",
            "Epoch 16/20\n",
            "250/250 [==============================] - 105s 420ms/step - loss: 0.3225 - accuracy: 0.8919 - val_loss: 0.7471 - val_accuracy: 0.7580\n",
            "Epoch 17/20\n",
            "250/250 [==============================] - 105s 420ms/step - loss: 0.2940 - accuracy: 0.9034 - val_loss: 0.5938 - val_accuracy: 0.8076\n",
            "Epoch 18/20\n",
            "250/250 [==============================] - 101s 405ms/step - loss: 0.2614 - accuracy: 0.9138 - val_loss: 0.6696 - val_accuracy: 0.7872\n",
            "Epoch 19/20\n",
            "250/250 [==============================] - 101s 405ms/step - loss: 0.2285 - accuracy: 0.9250 - val_loss: 0.7818 - val_accuracy: 0.7706\n",
            "Epoch 20/20\n",
            "250/250 [==============================] - 101s 404ms/step - loss: 0.2126 - accuracy: 0.9317 - val_loss: 0.6819 - val_accuracy: 0.7752\n"
          ]
        },
        {
          "output_type": "execute_result",
          "data": {
            "text/plain": [
              "<keras.callbacks.History at 0x7fe54dc0e590>"
            ]
          },
          "metadata": {},
          "execution_count": 7
        }
      ]
    },
    {
      "cell_type": "markdown",
      "source": [
        "Di bawah ini adalah code yang lama\n"
      ],
      "metadata": {
        "id": "r6ZPYTbfGnWl"
      }
    },
    {
      "cell_type": "code",
      "source": [
        ""
      ],
      "metadata": {
        "id": "E1r9hhf1Gmso"
      },
      "execution_count": null,
      "outputs": []
    },
    {
      "cell_type": "code",
      "source": [
        "#x_train = np.expand_dims(train_images, axis=-1)\n",
        "#train_imagesN = tf.image.resize(train_images, (227,227))\n",
        "#image = tf.image.resize(image, (227,227))\n",
        "#x_train.shape\n",
        "X_train = train_images.reshape(train_images.shape[0], 1, 28, 28).astype('float32')"
      ],
      "metadata": {
        "colab": {
          "base_uri": "https://localhost:8080/",
          "height": 207
        },
        "id": "lfI40Z7toulO",
        "outputId": "79e9d1c7-d5c9-4799-d173-6c1165b75459"
      },
      "execution_count": null,
      "outputs": [
        {
          "output_type": "error",
          "ename": "ValueError",
          "evalue": "ignored",
          "traceback": [
            "\u001b[0;31m---------------------------------------------------------------------------\u001b[0m",
            "\u001b[0;31mValueError\u001b[0m                                Traceback (most recent call last)",
            "\u001b[0;32m<ipython-input-22-2c48194648cd>\u001b[0m in \u001b[0;36m<module>\u001b[0;34m()\u001b[0m\n\u001b[1;32m      3\u001b[0m \u001b[0;31m#image = tf.image.resize(image, (227,227))\u001b[0m\u001b[0;34m\u001b[0m\u001b[0;34m\u001b[0m\u001b[0;34m\u001b[0m\u001b[0m\n\u001b[1;32m      4\u001b[0m \u001b[0;31m#x_train.shape\u001b[0m\u001b[0;34m\u001b[0m\u001b[0;34m\u001b[0m\u001b[0;34m\u001b[0m\u001b[0m\n\u001b[0;32m----> 5\u001b[0;31m \u001b[0mX_train\u001b[0m \u001b[0;34m=\u001b[0m \u001b[0mtrain_images\u001b[0m\u001b[0;34m.\u001b[0m\u001b[0mreshape\u001b[0m\u001b[0;34m(\u001b[0m\u001b[0mtrain_images\u001b[0m\u001b[0;34m.\u001b[0m\u001b[0mshape\u001b[0m\u001b[0;34m[\u001b[0m\u001b[0;36m0\u001b[0m\u001b[0;34m]\u001b[0m\u001b[0;34m,\u001b[0m \u001b[0;36m1\u001b[0m\u001b[0;34m,\u001b[0m \u001b[0;36m28\u001b[0m\u001b[0;34m,\u001b[0m \u001b[0;36m28\u001b[0m\u001b[0;34m)\u001b[0m\u001b[0;34m.\u001b[0m\u001b[0mastype\u001b[0m\u001b[0;34m(\u001b[0m\u001b[0;34m'float32'\u001b[0m\u001b[0;34m)\u001b[0m\u001b[0;34m\u001b[0m\u001b[0;34m\u001b[0m\u001b[0m\n\u001b[0m",
            "\u001b[0;31mValueError\u001b[0m: cannot reshape array of size 138240000 into shape (45000,1,28,28)"
          ]
        }
      ]
    },
    {
      "cell_type": "code",
      "source": [
        "validation_images, validation_labels = train_images[:5000], train_labels[:5000]\n",
        "train_images, train_labels = train_images[5000:], train_labels[5000:]"
      ],
      "metadata": {
        "id": "Ygh7t2o3kqkr"
      },
      "execution_count": null,
      "outputs": []
    },
    {
      "cell_type": "code",
      "source": [
        "train_ds = tf.data.Dataset.from_tensor_slices((train_images, train_labels))\n",
        "test_ds = tf.data.Dataset.from_tensor_slices((test_images, test_labels))\n",
        "validation_ds = tf.data.Dataset.from_tensor_slices((validation_images, validation_labels))"
      ],
      "metadata": {
        "id": "jo9oSN3nlDzK"
      },
      "execution_count": null,
      "outputs": []
    },
    {
      "cell_type": "code",
      "source": [
        "def process_images(image, label):\n",
        "    # Normalize images to have a mean of 0 and standard deviation of 1\n",
        "    image = tf.image.per_image_standardization(image)\n",
        "    # Resize images from 32x32 to 277x277\n",
        "    image = tf.image.resize(image, (227,227))\n",
        "    return image, label"
      ],
      "metadata": {
        "id": "cgZAXfR-lMag"
      },
      "execution_count": null,
      "outputs": []
    },
    {
      "cell_type": "code",
      "source": [
        "train_ds = (train_ds\n",
        "                  .map(process_images)\n",
        "                  .shuffle(buffer_size=train_ds_size)\n",
        "                  .batch(batch_size=32, drop_remainder=True))\n",
        "test_ds = (test_ds\n",
        "                  .map(process_images)\n",
        "                  .shuffle(buffer_size=train_ds_size)\n",
        "                  .batch(batch_size=32, drop_remainder=True))\n",
        "validation_ds = (validation_ds\n",
        "                  .map(process_images)\n",
        "                  .shuffle(buffer_size=train_ds_size)\n",
        "                  .batch(batch_size=32, drop_remainder=True))"
      ],
      "metadata": {
        "id": "HQTj9WztlML2"
      },
      "execution_count": null,
      "outputs": []
    },
    {
      "cell_type": "code",
      "metadata": {
        "id": "wLWtzRjPqYjU"
      },
      "source": [
        "train_labelsH = np_utils.to_categorical(train_labels)\n",
        "test_labelsH = np_utils.to_categorical(test_labels)"
      ],
      "execution_count": null,
      "outputs": []
    },
    {
      "cell_type": "code",
      "source": [
        "train_images.shape"
      ],
      "metadata": {
        "colab": {
          "base_uri": "https://localhost:8080/"
        },
        "id": "UlZtW_UVDrbj",
        "outputId": "2a9c54f9-d6d5-4ab4-c9be-488e61186961"
      },
      "execution_count": null,
      "outputs": [
        {
          "output_type": "execute_result",
          "data": {
            "text/plain": [
              "(50000, 32, 32, 3)"
            ]
          },
          "metadata": {},
          "execution_count": 3
        }
      ]
    },
    {
      "cell_type": "code",
      "source": [
        "train_ds_size = tf.data.experimental.cardinality(train_ds).numpy()\n",
        "test_ds_size = tf.data.experimental.cardinality(test_ds).numpy()\n",
        "validation_ds_size = tf.data.experimental.cardinality(validation_ds).numpy()\n",
        "print(\"Training data size:\", train_ds_size)\n",
        "print(\"Test data size:\", test_ds_size)\n",
        "print(\"Validation data size:\", validation_ds_size)"
      ],
      "metadata": {
        "colab": {
          "base_uri": "https://localhost:8080/"
        },
        "id": "NiIeIWLDkSNP",
        "outputId": "9d94d447-87c5-4d11-b3df-ce62bf8f5356"
      },
      "execution_count": null,
      "outputs": [
        {
          "output_type": "stream",
          "name": "stdout",
          "text": [
            "Training data size: 45000\n",
            "Test data size: 10000\n",
            "Validation data size: 5000\n"
          ]
        }
      ]
    },
    {
      "cell_type": "code",
      "source": [
        "model = keras.models.Sequential([\n",
        "    keras.layers.Conv2D(filters=96, kernel_size=(11,11), strides=(4,4), activation='relu', input_shape=(227,227,3)),\n",
        "    keras.layers.BatchNormalization(),\n",
        "    keras.layers.MaxPool2D(pool_size=(3,3), strides=(2,2)),\n",
        "    keras.layers.Conv2D(filters=256, kernel_size=(5,5), strides=(1,1), activation='relu', padding=\"same\"),\n",
        "    keras.layers.BatchNormalization(),\n",
        "    keras.layers.MaxPool2D(pool_size=(3,3), strides=(2,2)),\n",
        "    keras.layers.Conv2D(filters=384, kernel_size=(3,3), strides=(1,1), activation='relu', padding=\"same\"),\n",
        "    keras.layers.BatchNormalization(),\n",
        "    keras.layers.Conv2D(filters=384, kernel_size=(3,3), strides=(1,1), activation='relu', padding=\"same\"),\n",
        "    keras.layers.BatchNormalization(),\n",
        "    keras.layers.Conv2D(filters=256, kernel_size=(3,3), strides=(1,1), activation='relu', padding=\"same\"),\n",
        "    keras.layers.BatchNormalization(),\n",
        "    keras.layers.MaxPool2D(pool_size=(3,3), strides=(2,2)),\n",
        "    keras.layers.Flatten(),\n",
        "    keras.layers.Dense(4096, activation='relu'),\n",
        "    keras.layers.Dropout(0.5),\n",
        "    keras.layers.Dense(4096, activation='relu'),\n",
        "    keras.layers.Dropout(0.5),\n",
        "    keras.layers.Dense(10, activation='softmax')\n",
        "])"
      ],
      "metadata": {
        "id": "IvqBB4skndOt"
      },
      "execution_count": null,
      "outputs": []
    },
    {
      "cell_type": "code",
      "source": [
        "model.summary()"
      ],
      "metadata": {
        "id": "O2JZF-fkncjg"
      },
      "execution_count": null,
      "outputs": []
    },
    {
      "cell_type": "code",
      "metadata": {
        "id": "t5GSA8rsqgtU"
      },
      "source": [
        "model = models.Sequential()\n",
        "model.add(layers.Conv2D(32, (3, 3), activation='relu', input_shape=(32, 32, 3)))\n",
        "model.add(layers.MaxPooling2D((2, 2)))\n",
        "model.add(layers.Conv2D(64, (3, 3), activation='relu'))\n",
        "model.add(layers.MaxPooling2D((2, 2)))\n",
        "model.add(layers.Conv2D(100, (3, 3), activation='relu', padding='same'))\n",
        "model.add(layers.MaxPooling2D((2, 2)))\n",
        "model.add(layers.Conv2D(100, (3, 3), activation='relu'))\n",
        "model.add(layers.Flatten())\n",
        "model.add(layers.Dense(120, activation='relu'))\n",
        "model.add(layers.Dense(64, activation='relu'))\n",
        "model.add(layers.Dense(10, activation='softmax'))"
      ],
      "execution_count": null,
      "outputs": []
    },
    {
      "cell_type": "code",
      "metadata": {
        "colab": {
          "base_uri": "https://localhost:8080/"
        },
        "id": "yiHrreYXrKHg",
        "outputId": "1e92f579-ade7-4bf1-a1fa-e49237690002"
      },
      "source": [
        "opt = keras.optimizers.Adam(learning_rate=0.001)\n",
        "model.compile(optimizer=opt,loss=\"categorical_crossentropy\",metrics=['accuracy'])\n",
        "\n",
        "model.fit(train_images, train_labelsH, epochs=20, batch_size=200, validation_data=(test_images, test_labelsH))"
      ],
      "execution_count": null,
      "outputs": [
        {
          "output_type": "stream",
          "name": "stdout",
          "text": [
            "Epoch 1/20\n",
            "250/250 [==============================] - 6s 22ms/step - loss: 1.7571 - accuracy: 0.3486 - val_loss: 1.4350 - val_accuracy: 0.4720\n",
            "Epoch 2/20\n",
            "250/250 [==============================] - 5s 20ms/step - loss: 1.3682 - accuracy: 0.5040 - val_loss: 1.2847 - val_accuracy: 0.5369\n",
            "Epoch 3/20\n",
            "250/250 [==============================] - 5s 21ms/step - loss: 1.1960 - accuracy: 0.5694 - val_loss: 1.1562 - val_accuracy: 0.5955\n",
            "Epoch 4/20\n",
            "250/250 [==============================] - 5s 21ms/step - loss: 1.0613 - accuracy: 0.6228 - val_loss: 1.0915 - val_accuracy: 0.6161\n",
            "Epoch 5/20\n",
            "250/250 [==============================] - 5s 20ms/step - loss: 0.9619 - accuracy: 0.6621 - val_loss: 0.9656 - val_accuracy: 0.6597\n",
            "Epoch 6/20\n",
            "250/250 [==============================] - 5s 20ms/step - loss: 0.8944 - accuracy: 0.6871 - val_loss: 0.9313 - val_accuracy: 0.6759\n",
            "Epoch 7/20\n",
            "250/250 [==============================] - 5s 20ms/step - loss: 0.8175 - accuracy: 0.7135 - val_loss: 0.9123 - val_accuracy: 0.6827\n",
            "Epoch 8/20\n",
            "250/250 [==============================] - 5s 21ms/step - loss: 0.7620 - accuracy: 0.7358 - val_loss: 0.8909 - val_accuracy: 0.6937\n",
            "Epoch 9/20\n",
            "250/250 [==============================] - 5s 20ms/step - loss: 0.7158 - accuracy: 0.7522 - val_loss: 0.8646 - val_accuracy: 0.7059\n",
            "Epoch 10/20\n",
            "250/250 [==============================] - 5s 20ms/step - loss: 0.6784 - accuracy: 0.7653 - val_loss: 0.8746 - val_accuracy: 0.7066\n",
            "Epoch 11/20\n",
            "250/250 [==============================] - 5s 21ms/step - loss: 0.6367 - accuracy: 0.7773 - val_loss: 0.8553 - val_accuracy: 0.7167\n",
            "Epoch 12/20\n",
            "250/250 [==============================] - 5s 20ms/step - loss: 0.5833 - accuracy: 0.7976 - val_loss: 0.8412 - val_accuracy: 0.7230\n",
            "Epoch 13/20\n",
            "250/250 [==============================] - 5s 20ms/step - loss: 0.5439 - accuracy: 0.8113 - val_loss: 0.8444 - val_accuracy: 0.7205\n",
            "Epoch 14/20\n",
            "250/250 [==============================] - 5s 21ms/step - loss: 0.5185 - accuracy: 0.8190 - val_loss: 0.8931 - val_accuracy: 0.7091\n",
            "Epoch 15/20\n",
            "250/250 [==============================] - 5s 21ms/step - loss: 0.4845 - accuracy: 0.8309 - val_loss: 0.9181 - val_accuracy: 0.7058\n",
            "Epoch 16/20\n",
            "250/250 [==============================] - 5s 20ms/step - loss: 0.4489 - accuracy: 0.8434 - val_loss: 0.9303 - val_accuracy: 0.7174\n",
            "Epoch 17/20\n",
            "250/250 [==============================] - 5s 20ms/step - loss: 0.4175 - accuracy: 0.8541 - val_loss: 0.9647 - val_accuracy: 0.7100\n",
            "Epoch 18/20\n",
            "250/250 [==============================] - 5s 21ms/step - loss: 0.3855 - accuracy: 0.8661 - val_loss: 0.9216 - val_accuracy: 0.7290\n",
            "Epoch 19/20\n",
            "250/250 [==============================] - 5s 20ms/step - loss: 0.3659 - accuracy: 0.8729 - val_loss: 0.9773 - val_accuracy: 0.7219\n",
            "Epoch 20/20\n",
            "250/250 [==============================] - 5s 21ms/step - loss: 0.3292 - accuracy: 0.8858 - val_loss: 1.0354 - val_accuracy: 0.7176\n"
          ]
        },
        {
          "output_type": "execute_result",
          "data": {
            "text/plain": [
              "<keras.callbacks.History at 0x7fe54da7c2d0>"
            ]
          },
          "metadata": {},
          "execution_count": 9
        }
      ]
    },
    {
      "cell_type": "code",
      "metadata": {
        "id": "VVVFimk0rqtb"
      },
      "source": [
        "y_predict=model(test_images)"
      ],
      "execution_count": null,
      "outputs": []
    },
    {
      "cell_type": "code",
      "metadata": {
        "colab": {
          "base_uri": "https://localhost:8080/"
        },
        "id": "mFX1XnLbtXn7",
        "outputId": "58d6582b-e1f5-450d-9d56-97f1a8cee134"
      },
      "source": [
        "np.round(y_predict[1])"
      ],
      "execution_count": null,
      "outputs": [
        {
          "output_type": "execute_result",
          "data": {
            "text/plain": [
              "array([0., 0., 0., 0., 0., 0., 0., 0., 1., 0.], dtype=float32)"
            ]
          },
          "metadata": {
            "tags": []
          },
          "execution_count": 16
        }
      ]
    },
    {
      "cell_type": "code",
      "metadata": {
        "colab": {
          "base_uri": "https://localhost:8080/",
          "height": 284
        },
        "id": "ub1BqwDctajc",
        "outputId": "f99aa760-92a3-49e9-e4b3-59c6f352dfc0"
      },
      "source": [
        "plt.imshow(test_images[1])"
      ],
      "execution_count": null,
      "outputs": [
        {
          "output_type": "execute_result",
          "data": {
            "text/plain": [
              "<matplotlib.image.AxesImage at 0x7f5647c80410>"
            ]
          },
          "metadata": {},
          "execution_count": 28
        },
        {
          "output_type": "display_data",
          "data": {
            "image/png": "[encoded data removed]",
            "text/plain": [
              "<Figure size 432x288 with 1 Axes>"
            ]
          },
          "metadata": {
            "needs_background": "light"
          }
        }
      ]
    },
    {
      "cell_type": "code",
      "metadata": {
        "id": "b2zQogm4tyOg"
      },
      "source": [
        "a=test_images[1]"
      ],
      "execution_count": null,
      "outputs": []
    },
    {
      "cell_type": "code",
      "source": [
        "a.shape"
      ],
      "metadata": {
        "colab": {
          "base_uri": "https://localhost:8080/"
        },
        "id": "K7FYpi21KgN0",
        "outputId": "0ef695f9-d854-42d9-e54a-55a0857811db"
      },
      "execution_count": null,
      "outputs": [
        {
          "output_type": "execute_result",
          "data": {
            "text/plain": [
              "(32, 32, 3)"
            ]
          },
          "metadata": {},
          "execution_count": 31
        }
      ]
    },
    {
      "cell_type": "code",
      "source": [
        "a2 = tf.image.resize(a, (227,227))"
      ],
      "metadata": {
        "id": "plii4_EMKlai"
      },
      "execution_count": null,
      "outputs": []
    },
    {
      "cell_type": "code",
      "source": [
        "a2.shape"
      ],
      "metadata": {
        "colab": {
          "base_uri": "https://localhost:8080/"
        },
        "id": "fWwt-4fPKuZl",
        "outputId": "9226a5e4-c4d1-4c19-8249-99f366d69a58"
      },
      "execution_count": null,
      "outputs": [
        {
          "output_type": "execute_result",
          "data": {
            "text/plain": [
              "TensorShape([227, 227, 3])"
            ]
          },
          "metadata": {},
          "execution_count": 33
        }
      ]
    },
    {
      "cell_type": "code",
      "source": [
        "test_images.shape"
      ],
      "metadata": {
        "colab": {
          "base_uri": "https://localhost:8080/"
        },
        "id": "tHm1GiKsKv2l",
        "outputId": "5be47591-e062-4b18-a85e-b19c03fe9e3f"
      },
      "execution_count": null,
      "outputs": [
        {
          "output_type": "execute_result",
          "data": {
            "text/plain": [
              "(10000, 32, 32, 3)"
            ]
          },
          "metadata": {},
          "execution_count": 34
        }
      ]
    },
    {
      "cell_type": "code",
      "source": [
        "a3=np.asarray(a2)"
      ],
      "metadata": {
        "id": "_x6bzkm1K28F"
      },
      "execution_count": null,
      "outputs": []
    },
    {
      "cell_type": "code",
      "source": [
        "a3.shape"
      ],
      "metadata": {
        "colab": {
          "base_uri": "https://localhost:8080/"
        },
        "id": "Mfa6MjXvLDwL",
        "outputId": "1b53f713-eda3-4e8f-9bbe-e15fd137bdca"
      },
      "execution_count": null,
      "outputs": [
        {
          "output_type": "execute_result",
          "data": {
            "text/plain": [
              "(227, 227, 3)"
            ]
          },
          "metadata": {},
          "execution_count": 36
        }
      ]
    },
    {
      "cell_type": "code",
      "source": [
        ""
      ],
      "metadata": {
        "id": "7bI1w663LFcc"
      },
      "execution_count": null,
      "outputs": []
    }
  ]
}