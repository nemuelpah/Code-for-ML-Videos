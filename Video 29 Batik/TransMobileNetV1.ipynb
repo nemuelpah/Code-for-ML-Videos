{
 "cells": [
  {
   "cell_type": "code",
   "execution_count": 1,
   "metadata": {
    "id": "k-jwiVNa8m_t"
   },
   "outputs": [],
   "source": [
    "import keras\n",
    "from tensorflow.keras.utils import load_img, img_to_array\n",
    "from keras.models import Model\n",
    "from keras.applications import imagenet_utils\n",
    "from keras.applications import MobileNet\n",
    "from keras.applications.mobilenet import preprocess_input\n",
    "import numpy as np\n",
    "from IPython.display import Image"
   ]
  },
  {
   "cell_type": "code",
   "execution_count": 2,
   "metadata": {
    "id": "ySCULPt7874z"
   },
   "outputs": [],
   "source": [
    "myModel = keras.applications.mobilenet.MobileNet(input_shape=(224,224,3),weights='imagenet',include_top=True)"
   ]
  },
  {
   "cell_type": "code",
   "execution_count": 11,
   "metadata": {
    "id": "gydXtFqS9B5H"
   },
   "outputs": [],
   "source": [
    "img = keras.utils.load_img('test1.jpg', target_size=(224, 224))\n",
    "img_array = keras.utils.img_to_array(img)\n",
    "img_array = np.expand_dims(img_array, axis=0)\n",
    "gambar = keras.applications.mobilenet.preprocess_input(img_array)"
   ]
  },
  {
   "cell_type": "code",
   "execution_count": 12,
   "metadata": {
    "id": "XY4sn-lY9nNQ"
   },
   "outputs": [
    {
     "name": "stdout",
     "output_type": "stream",
     "text": [
      "1/1 [==============================] - 0s 44ms/step\n"
     ]
    }
   ],
   "source": [
    "predictions = myModel.predict(gambar)"
   ]
  },
  {
   "cell_type": "code",
   "execution_count": 6,
   "metadata": {
    "id": "KMtCjL1l9xX3"
   },
   "outputs": [
    {
     "data": {
      "text/plain": [
       "(array([0], dtype=int64), array([967], dtype=int64))"
      ]
     },
     "execution_count": 6,
     "metadata": {},
     "output_type": "execute_result"
    }
   ],
   "source": [
    "indeks = np.where(predictions == np.max(predictions))\n",
    "indeks"
   ]
  },
  {
   "cell_type": "code",
   "execution_count": 13,
   "metadata": {
    "id": "R-82zort-oSF"
   },
   "outputs": [
    {
     "data": {
      "text/plain": [
       "[[('n03291819', 'envelope', 0.56378174),\n",
       "  ('n03223299', 'doormat', 0.10918708),\n",
       "  ('n04591157', 'Windsor_tie', 0.043756817),\n",
       "  ('n02840245', 'binder', 0.03792732),\n",
       "  ('n04476259', 'tray', 0.03678563)]]"
      ]
     },
     "execution_count": 13,
     "metadata": {},
     "output_type": "execute_result"
    }
   ],
   "source": [
    "results = imagenet_utils.decode_predictions(predictions)\n",
    "results"
   ]
  },
  {
   "cell_type": "code",
   "execution_count": null,
   "metadata": {
    "id": "pvY0_KIsBCYU"
   },
   "outputs": [],
   "source": []
  }
 ],
 "metadata": {
  "colab": {
   "provenance": []
  },
  "kernelspec": {
   "display_name": "Python 3 (ipykernel)",
   "language": "python",
   "name": "python3"
  },
  "language_info": {
   "codemirror_mode": {
    "name": "ipython",
    "version": 3
   },
   "file_extension": ".py",
   "mimetype": "text/x-python",
   "name": "python",
   "nbconvert_exporter": "python",
   "pygments_lexer": "ipython3",
   "version": "3.9.12"
  }
 },
 "nbformat": 4,
 "nbformat_minor": 1
}
