{
 "cells": [
  {
   "cell_type": "code",
   "execution_count": 1,
   "metadata": {},
   "outputs": [],
   "source": [
    "import numpy as np\n",
    "from keras.models import load_model\n",
    "from PIL import Image\n",
    "from numpy import asarray\n",
    "\n",
    "import cv2\n",
    "\n",
    "import keras\n",
    "from tensorflow.keras.utils import load_img, img_to_array\n",
    "from keras.models import Model\n",
    "from keras.applications import imagenet_utils\n",
    "from keras.applications import MobileNet\n",
    "from keras.applications.mobilenet import preprocess_input\n",
    "#from IPython.display import Image\n"
   ]
  },
  {
   "cell_type": "code",
   "execution_count": 2,
   "metadata": {},
   "outputs": [],
   "source": [
    "#model_baru = keras.applications.mobilenet.MobileNet()\n",
    "model_baru=load_model('myNewModel.h5')\n",
    "\n",
    "jenis = ['Parang','Mega Mendung','Kawung']"
   ]
  },
  {
   "cell_type": "code",
   "execution_count": 3,
   "metadata": {
    "scrolled": false
   },
   "outputs": [],
   "source": [
    "cap = cv2.VideoCapture(0)\n",
    "\n",
    "while(1):\n",
    "    _, gbr1 = cap.read()\n",
    "    gbr2 = cv2.cvtColor(gbr1, cv2.COLOR_BGR2RGB)\n",
    "    gbr = Image.fromarray(gbr2)                  # konversi dari OpenCV ke PIL\n",
    "    \n",
    "    width, height = gbr.size\n",
    "    left=np.round((width-height)/2)\n",
    "    right=left+height\n",
    "    gbr = gbr.crop((left, 0, right, height))\n",
    "    img = gbr.resize((224,224))\n",
    "    \n",
    "    #gbr_array = asarray(gbr)\n",
    "    #gbr_array =gbr_array/255\n",
    "\n",
    "    #gambar=list()\n",
    "    #gambar.append(gbr_array)\n",
    "    #gambar=asarray(gambar)\n",
    "    \n",
    "    #img_array = keras.utils.img_to_array(img)\n",
    "    img = np.expand_dims(img, axis=0)\n",
    "    gambar = keras.applications.mobilenet.preprocess_input(img)\n",
    "    \n",
    "    y=model_baru.predict(gambar,verbose = 0)\n",
    "    y=np.round(y)\n",
    "    \n",
    "    if np.sum(y)==1:\n",
    "        kelas = np.where(y[0]==1)\n",
    "        cv2.putText(gbr1,jenis[kelas[0][0]], (100,100),cv2.FONT_HERSHEY_SIMPLEX, 1, (0, 255, 0), 2, cv2.LINE_AA)\n",
    "        \n",
    "    cv2.imshow('Result',gbr1)\n",
    "    \n",
    "    k = cv2.waitKey(5) & 0xFF\n",
    "    if k == 27:\n",
    "        break\n",
    "        \n",
    "cv2.destroyAllWindows()\n",
    "cap.release()"
   ]
  },
  {
   "cell_type": "code",
   "execution_count": 4,
   "metadata": {},
   "outputs": [],
   "source": [
    "cv2.destroyAllWindows()\n",
    "cap.release()"
   ]
  },
  {
   "cell_type": "code",
   "execution_count": null,
   "metadata": {},
   "outputs": [],
   "source": []
  },
  {
   "cell_type": "code",
   "execution_count": null,
   "metadata": {},
   "outputs": [],
   "source": []
  }
 ],
 "metadata": {
  "kernelspec": {
   "display_name": "Python 3 (ipykernel)",
   "language": "python",
   "name": "python3"
  },
  "language_info": {
   "codemirror_mode": {
    "name": "ipython",
    "version": 3
   },
   "file_extension": ".py",
   "mimetype": "text/x-python",
   "name": "python",
   "nbconvert_exporter": "python",
   "pygments_lexer": "ipython3",
   "version": "3.9.12"
  }
 },
 "nbformat": 4,
 "nbformat_minor": 4
}
