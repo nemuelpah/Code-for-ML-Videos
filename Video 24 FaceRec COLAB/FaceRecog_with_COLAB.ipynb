{
 "cells": [
  {
   "cell_type": "code",
   "execution_count": 1,
   "metadata": {
    "id": "5uW5jzAWCEw-"
   },
   "outputs": [],
   "source": [
    "import os\n",
    "from os import listdir\n",
    "from PIL import Image as Img\n",
    "from numpy import asarray\n",
    "from numpy import expand_dims\n",
    "from matplotlib import pyplot\n",
    "from keras.models import load_model\n",
    "import numpy as np\n",
    "import tensorflow as tf\n",
    "\n",
    "import pickle\n",
    "import cv2"
   ]
  },
  {
   "cell_type": "code",
   "execution_count": 2,
   "metadata": {
    "id": "yeWhhpkjCfS7"
   },
   "outputs": [],
   "source": [
    "HaarCascade = cv2.CascadeClassifier(cv2.samples.findFile(cv2.data.haarcascades + 'haarcascade_frontalface_default.xml'))"
   ]
  },
  {
   "cell_type": "code",
   "execution_count": null,
   "metadata": {
    "id": "d7VXZ1s0Chom"
   },
   "outputs": [],
   "source": [
    "!wget \"https://drive.google.com/uc?export=download&id=1PZ_6Zsy1Vb0s0JmjEmVd8FS99zoMCiN1\""
   ]
  },
  {
   "cell_type": "code",
   "execution_count": null,
   "metadata": {
    "id": "1-RhxnYSEBuF"
   },
   "outputs": [],
   "source": [
    "MyFaceNet = load_model(\"facenet_keras.h5\")"
   ]
  },
  {
   "cell_type": "code",
   "execution_count": null,
   "metadata": {
    "id": "z-n_slKhD4wd"
   },
   "outputs": [],
   "source": [
    "folder='fotoPeserta/'\n",
    "database = {}\n",
    "\n",
    "for filename in listdir(folder):\n",
    "\n",
    "    path = folder + filename\n",
    "    gbr1 = cv2.imread(folder + filename)\n",
    "    \n",
    "    wajah = HaarCascade.detectMultiScale(gbr1,1.1,4)\n",
    "    \n",
    "    if len(wajah)>0:\n",
    "        x1, y1, width, height = wajah[0]         \n",
    "    else:\n",
    "        x1, y1, width, height = 1, 1, 10, 10\n",
    "        \n",
    "    x1, y1 = abs(x1), abs(y1)\n",
    "    x2, y2 = x1 + width, y1 + height\n",
    "    \n",
    "    gbr = cv2.cvtColor(gbr1, cv2.COLOR_BGR2RGB)\n",
    "    gbr = Img.fromarray(gbr)                  # konversi dari OpenCV ke PIL\n",
    "    gbr_array = asarray(gbr)\n",
    "    \n",
    "    face = gbr_array[y1:y2, x1:x2]                        \n",
    "    \n",
    "    face = Img.fromarray(face)                       \n",
    "    face = face.resize((160,160))\n",
    "    face = asarray(face)\n",
    "    \n",
    "    face = face.astype('float32')\n",
    "    mean, std = face.mean(), face.std()\n",
    "    face = (face - mean) / std\n",
    "    \n",
    "    face = expand_dims(face, axis=0)\n",
    "    signature = MyFaceNet.predict(face)\n",
    "    \n",
    "    database[os.path.splitext(filename)[0]]=signature"
   ]
  },
  {
   "cell_type": "code",
   "execution_count": 6,
   "metadata": {
    "id": "QvUFV9ddEz5b"
   },
   "outputs": [],
   "source": [
    "myfile = open(\"data.pkl\", \"wb\")\n",
    "pickle.dump(database, myfile)\n",
    "myfile.close()"
   ]
  },
  {
   "cell_type": "code",
   "execution_count": 7,
   "metadata": {
    "id": "BEsKSKlIE7Rm"
   },
   "outputs": [],
   "source": [
    "myfile = open(\"data.pkl\", \"rb\")\n",
    "database = pickle.load(myfile)\n",
    "myfile.close()"
   ]
  },
  {
   "cell_type": "code",
   "execution_count": 8,
   "metadata": {
    "id": "00Ea2CIdF7tm"
   },
   "outputs": [],
   "source": [
    "def js_to_image(js_reply):\n",
    "  image_bytes = b64decode(js_reply.split(',')[1])\n",
    "  jpg_as_np = np.frombuffer(image_bytes, dtype=np.uint8)\n",
    "  img = cv2.imdecode(jpg_as_np, flags=1)\n",
    "  return img"
   ]
  },
  {
   "cell_type": "code",
   "execution_count": 32,
   "metadata": {
    "id": "pbrCKSe_FD8c"
   },
   "outputs": [],
   "source": [
    "def findFaces(data):\n",
    "  gbr1 = js_to_image(data)\n",
    "  gbr = cv2.cvtColor(gbr1, cv2.COLOR_BGR2RGB)\n",
    "  gbr = Img.fromarray(gbr)                  # konversi dari OpenCV ke PIL\n",
    "  gbr_array = asarray(gbr)\n",
    " \n",
    "  wajah = HaarCascade.detectMultiScale(gbr1,1.1,4)\n",
    "  \n",
    "  for (x1,y1,w,h) in wajah:\n",
    "      x1, y1 = abs(x1), abs(y1)\n",
    "      x2, y2 = x1 + w, y1 + h\n",
    "    \n",
    "      face = gbr_array[y1:y2, x1:x2]                        \n",
    "    \n",
    "      face = Img.fromarray(face)                       \n",
    "      face = face.resize((160,160))\n",
    "      face = asarray(face)\n",
    "    \n",
    "      face = face.astype('float32')\n",
    "      mean, std = face.mean(), face.std()\n",
    "      face = (face - mean) / std\n",
    "    \n",
    "      face = expand_dims(face, axis=0)\n",
    "      signature = MyFaceNet.predict(face)\n",
    "    \n",
    "      min_dist=100\n",
    "      identity=' '\n",
    "      for key, value in database.items() :\n",
    "        dist = np.linalg.norm(value-signature)\n",
    "        if dist < min_dist:\n",
    "          min_dist = dist\n",
    "          identity = key\n",
    "            \n",
    "      cv2.putText(gbr1,identity, (x1,y1),cv2.FONT_HERSHEY_SIMPLEX, 0.5, (255, 255, 0), 1, cv2.LINE_AA)\n",
    "      cv2.rectangle(gbr1,(x1,y1),(x2,y2), (0,255,0), 2)\n",
    "  \n",
    "  filename='photo.jpg'\n",
    "  cv2.imwrite(filename, gbr1)\n",
    "  \n",
    "  return filename  "
   ]
  },
  {
   "cell_type": "code",
   "execution_count": 33,
   "metadata": {
    "id": "XNiPKZaXFOPY"
   },
   "outputs": [],
   "source": [
    "from IPython.display import display, Javascript\n",
    "from google.colab.output import eval_js\n",
    "from base64 import b64decode\n",
    "\n",
    "def take_photo(filename='photo.jpg', quality=0.8):\n",
    "  js = Javascript('''\n",
    "    async function takePhoto(quality) {\n",
    "      const div = document.createElement('div');\n",
    "      const capture = document.createElement('button');\n",
    "      capture.textContent = 'Capture';\n",
    "      div.appendChild(capture);\n",
    "\n",
    "      const video = document.createElement('video');\n",
    "      video.style.display = 'block';\n",
    "      const stream = await navigator.mediaDevices.getUserMedia({video: true});\n",
    "\n",
    "      document.body.appendChild(div);\n",
    "      div.appendChild(video);\n",
    "      video.srcObject = stream;\n",
    "      await video.play();\n",
    "\n",
    "      // Resize the output to fit the video element.\n",
    "      google.colab.output.setIframeHeight(document.documentElement.scrollHeight, true);\n",
    "\n",
    "      // Wait for Capture to be clicked.\n",
    "      await new Promise((resolve) => capture.onclick = resolve);\n",
    "\n",
    "      const canvas = document.createElement('canvas');\n",
    "      canvas.width = video.videoWidth;\n",
    "      canvas.height = video.videoHeight;\n",
    "      canvas.getContext('2d').drawImage(video, 0, 0);\n",
    "      stream.getVideoTracks()[0].stop();\n",
    "      div.remove();\n",
    "      return canvas.toDataURL('image/jpeg', quality);\n",
    "    }\n",
    "    ''')\n",
    "  display(js)\n",
    "  data = eval_js('takePhoto({})'.format(quality))\n",
    "  \n",
    "  filename=findFaces(data)\n",
    "\n",
    "  return filename"
   ]
  },
  {
   "cell_type": "code",
   "execution_count": null,
   "metadata": {
    "id": "nC5tUTPvFOPb"
   },
   "outputs": [],
   "source": [
    "from IPython.display import Image\n",
    "try:\n",
    "  filename = take_photo()\n",
    "  print('Saved to {}'.format(filename))\n",
    "  \n",
    "  # Show the image which was just taken.\n",
    "  display(Image(filename))\n",
    "except Exception as err:\n",
    "  # Errors will be thrown if the user does not have a webcam or if they do not\n",
    "  # grant the page permission to access it.\n",
    "  print(str(err))"
   ]
  },
  {
   "cell_type": "code",
   "execution_count": null,
   "metadata": {
    "id": "nCqWOxkDGCyg"
   },
   "outputs": [],
   "source": []
  }
 ],
 "metadata": {
  "colab": {
   "collapsed_sections": [],
   "name": "FaceRecog with COLAB.ipynb",
   "provenance": []
  },
  "kernelspec": {
   "display_name": "Python 3",
   "language": "python",
   "name": "python3"
  },
  "language_info": {
   "codemirror_mode": {
    "name": "ipython",
    "version": 3
   },
   "file_extension": ".py",
   "mimetype": "text/x-python",
   "name": "python",
   "nbconvert_exporter": "python",
   "pygments_lexer": "ipython3",
   "version": "3.7.4"
  }
 },
 "nbformat": 4,
 "nbformat_minor": 1
}
