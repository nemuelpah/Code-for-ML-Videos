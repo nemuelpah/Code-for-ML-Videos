{
  "nbformat": 4,
  "nbformat_minor": 0,
  "metadata": {
    "colab": {
      "name": "cobaCIFAR10_saveH5.ipynb",
      "provenance": [],
      "collapsed_sections": [],
      "toc_visible": true
    },
    "kernelspec": {
      "name": "python3",
      "display_name": "Python 3"
    },
    "language_info": {
      "name": "python"
    },
    "accelerator": "GPU"
  },
  "cells": [
    {
      "cell_type": "markdown",
      "metadata": {
        "id": "2nDhhQhsYiEg"
      },
      "source": [
        "Sama seperti cobaCIFAR10 tetapi dengan proses untuk save model simple dengan h5"
      ]
    },
    {
      "cell_type": "code",
      "metadata": {
        "id": "GSAf4dbVo4EC"
      },
      "source": [
        "import tensorflow as tf\n",
        "import numpy as np\n",
        "\n",
        "from tensorflow import keras\n",
        "from keras.utils import np_utils\n",
        "from tensorflow.keras import datasets, layers, models\n",
        "import matplotlib.pyplot as plt\n",
        "from keras.models import load_model"
      ],
      "execution_count": null,
      "outputs": []
    },
    {
      "cell_type": "code",
      "metadata": {
        "colab": {
          "base_uri": "https://localhost:8080/"
        },
        "id": "GC9bBjzrscxr",
        "outputId": "5c124160-9e97-4521-d98e-638af7bc5682"
      },
      "source": [
        "import tensorflow as tf\n",
        "device_name = tf.test.gpu_device_name()\n",
        "if device_name != '/device:GPU:0':\n",
        "  raise SystemError('GPU device not found')\n",
        "print('Found GPU at: {}'.format(device_name))"
      ],
      "execution_count": null,
      "outputs": [
        {
          "output_type": "stream",
          "text": [
            "Found GPU at: /device:GPU:0\n"
          ],
          "name": "stdout"
        }
      ]
    },
    {
      "cell_type": "code",
      "metadata": {
        "id": "_mFBw2XwpAZD",
        "colab": {
          "base_uri": "https://localhost:8080/"
        },
        "outputId": "ae2c860d-17c2-41af-e91a-795d5c6a6356"
      },
      "source": [
        "(train_images, train_labels), (test_images, test_labels) = datasets.cifar10.load_data()\n",
        "\n",
        "train_images, test_images = train_images / 255.0, test_images / 255.0"
      ],
      "execution_count": null,
      "outputs": [
        {
          "output_type": "stream",
          "text": [
            "Downloading data from https://www.cs.toronto.edu/~kriz/cifar-10-python.tar.gz\n",
            "170500096/170498071 [==============================] - 6s 0us/step\n"
          ],
          "name": "stdout"
        }
      ]
    },
    {
      "cell_type": "code",
      "metadata": {
        "id": "wLWtzRjPqYjU"
      },
      "source": [
        "train_labelsH = np_utils.to_categorical(train_labels)\n",
        "test_labelsH = np_utils.to_categorical(test_labels)"
      ],
      "execution_count": null,
      "outputs": []
    },
    {
      "cell_type": "code",
      "metadata": {
        "id": "t5GSA8rsqgtU"
      },
      "source": [
        "model = models.Sequential()\n",
        "model.add(layers.Conv2D(32, (3, 3), activation='relu', input_shape=(32, 32, 3)))\n",
        "model.add(layers.MaxPooling2D((2, 2)))\n",
        "model.add(layers.Conv2D(64, (3, 3), activation='relu'))\n",
        "model.add(layers.MaxPooling2D((2, 2)))\n",
        "model.add(layers.Conv2D(64, (3, 3), activation='relu'))\n",
        "model.add(layers.Flatten())\n",
        "model.add(layers.Dense(64, activation='relu'))\n",
        "model.add(layers.Dense(10, activation='softmax'))"
      ],
      "execution_count": null,
      "outputs": []
    },
    {
      "cell_type": "code",
      "metadata": {
        "colab": {
          "base_uri": "https://localhost:8080/"
        },
        "id": "yiHrreYXrKHg",
        "outputId": "f3fd815d-ae7e-4c8d-adca-c00219c08fc8"
      },
      "source": [
        "opt = keras.optimizers.Adam(learning_rate=0.001)\n",
        "model.compile(optimizer=opt,loss=\"categorical_crossentropy\",metrics=['accuracy'])\n",
        "\n",
        "model.fit(train_images, train_labelsH, epochs=10, batch_size=200, validation_data=(test_images, test_labelsH))"
      ],
      "execution_count": null,
      "outputs": [
        {
          "output_type": "stream",
          "text": [
            "Epoch 1/10\n",
            "250/250 [==============================] - 5s 17ms/step - loss: 0.5957 - accuracy: 0.7925 - val_loss: 0.8640 - val_accuracy: 0.7122\n",
            "Epoch 2/10\n",
            "250/250 [==============================] - 4s 15ms/step - loss: 0.5471 - accuracy: 0.8096 - val_loss: 0.8408 - val_accuracy: 0.7237\n",
            "Epoch 3/10\n",
            "250/250 [==============================] - 4s 15ms/step - loss: 0.5352 - accuracy: 0.8124 - val_loss: 0.8615 - val_accuracy: 0.7159\n",
            "Epoch 4/10\n",
            "250/250 [==============================] - 4s 15ms/step - loss: 0.5092 - accuracy: 0.8207 - val_loss: 0.8471 - val_accuracy: 0.7218\n",
            "Epoch 5/10\n",
            "250/250 [==============================] - 4s 15ms/step - loss: 0.5008 - accuracy: 0.8251 - val_loss: 0.8870 - val_accuracy: 0.7206\n",
            "Epoch 6/10\n",
            "250/250 [==============================] - 4s 15ms/step - loss: 0.4785 - accuracy: 0.8341 - val_loss: 0.8755 - val_accuracy: 0.7195\n",
            "Epoch 7/10\n",
            "250/250 [==============================] - 4s 15ms/step - loss: 0.4755 - accuracy: 0.8318 - val_loss: 0.8743 - val_accuracy: 0.7164\n",
            "Epoch 8/10\n",
            "250/250 [==============================] - 4s 15ms/step - loss: 0.4610 - accuracy: 0.8398 - val_loss: 0.8842 - val_accuracy: 0.7172\n",
            "Epoch 9/10\n",
            "250/250 [==============================] - 4s 15ms/step - loss: 0.4351 - accuracy: 0.8473 - val_loss: 0.8864 - val_accuracy: 0.7227\n",
            "Epoch 10/10\n",
            "250/250 [==============================] - 4s 15ms/step - loss: 0.4280 - accuracy: 0.8503 - val_loss: 0.9161 - val_accuracy: 0.7170\n"
          ],
          "name": "stdout"
        },
        {
          "output_type": "execute_result",
          "data": {
            "text/plain": [
              "<tensorflow.python.keras.callbacks.History at 0x7f321a3cb190>"
            ]
          },
          "metadata": {
            "tags": []
          },
          "execution_count": 8
        }
      ]
    },
    {
      "cell_type": "code",
      "metadata": {
        "id": "b2zQogm4tyOg"
      },
      "source": [
        "model.save('modelKu.h5')"
      ],
      "execution_count": null,
      "outputs": []
    },
    {
      "cell_type": "code",
      "metadata": {
        "id": "nD7UU_q7hzjE"
      },
      "source": [
        ""
      ],
      "execution_count": null,
      "outputs": []
    }
  ]
}