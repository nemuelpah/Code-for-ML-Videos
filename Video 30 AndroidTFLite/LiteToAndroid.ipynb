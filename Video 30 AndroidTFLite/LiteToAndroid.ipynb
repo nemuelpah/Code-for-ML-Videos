{
 "cells": [
  {
   "cell_type": "code",
   "execution_count": 1,
   "metadata": {
    "colab": {
     "base_uri": "https://localhost:8080/"
    },
    "id": "mIrrNEQ0cg3A",
    "outputId": "86aeabd1-d2a2-4a07-e678-80b9820a00e0"
   },
   "outputs": [
    {
     "name": "stdout",
     "output_type": "stream",
     "text": [
      "Found GPU at: /device:GPU:0\n"
     ]
    }
   ],
   "source": [
    "import tensorflow as tf\n",
    "device_name = tf.test.gpu_device_name()\n",
    "if device_name != '/device:GPU:0':\n",
    "  raise SystemError('GPU device not found')\n",
    "print('Found GPU at: {}'.format(device_name))"
   ]
  },
  {
   "cell_type": "code",
   "execution_count": 2,
   "metadata": {
    "id": "CLQ35WYwiSjp"
   },
   "outputs": [],
   "source": [
    "import matplotlib.pyplot as plt\n",
    "import numpy as np\n",
    "import os\n",
    "import tensorflow as tf\n",
    "\n",
    "from PIL import Image\n",
    "from numpy import asarray"
   ]
  },
  {
   "cell_type": "code",
   "execution_count": 3,
   "metadata": {
    "colab": {
     "base_uri": "https://localhost:8080/"
    },
    "id": "UhIEGg9Dis4h",
    "outputId": "0d6a6dd3-d5b6-44fa-95d1-acc0d18dd90a"
   },
   "outputs": [
    {
     "name": "stdout",
     "output_type": "stream",
     "text": [
      "Downloading data from https://storage.googleapis.com/mledu-datasets/cats_and_dogs_filtered.zip\n",
      "68608000/68606236 [==============================] - 2s 0us/step\n",
      "68616192/68606236 [==============================] - 2s 0us/step\n",
      "Found 2000 files belonging to 2 classes.\n",
      "Found 1000 files belonging to 2 classes.\n"
     ]
    }
   ],
   "source": [
    "_URL = 'https://storage.googleapis.com/mledu-datasets/cats_and_dogs_filtered.zip'\n",
    "path_to_zip = tf.keras.utils.get_file('cats_and_dogs.zip', origin=_URL, extract=True)\n",
    "PATH = os.path.join(os.path.dirname(path_to_zip), 'cats_and_dogs_filtered')\n",
    "\n",
    "train_dir = os.path.join(PATH, 'train')\n",
    "validation_dir = os.path.join(PATH, 'validation')\n",
    "\n",
    "BATCH_SIZE = 32\n",
    "IMG_SIZE = (160, 160)\n",
    "\n",
    "train_dataset = tf.keras.utils.image_dataset_from_directory(train_dir, shuffle=True, batch_size=BATCH_SIZE, image_size=IMG_SIZE)\n",
    "validation_dataset = tf.keras.utils.image_dataset_from_directory(validation_dir, shuffle=True, batch_size=BATCH_SIZE, image_size=IMG_SIZE)"
   ]
  },
  {
   "cell_type": "code",
   "execution_count": 4,
   "metadata": {
    "colab": {
     "base_uri": "https://localhost:8080/"
    },
    "id": "w98Rs8eEz6DZ",
    "outputId": "279ee40e-0f11-4726-a6b4-af7a1963112c"
   },
   "outputs": [
    {
     "name": "stdout",
     "output_type": "stream",
     "text": [
      "Downloading data from https://storage.googleapis.com/tensorflow/keras-applications/mobilenet_v2/mobilenet_v2_weights_tf_dim_ordering_tf_kernels_1.0_160_no_top.h5\n",
      "9412608/9406464 [==============================] - 0s 0us/step\n",
      "9420800/9406464 [==============================] - 0s 0us/step\n"
     ]
    }
   ],
   "source": [
    "# Loading base model dari pre-trained model MobileNet V2\n",
    "\n",
    "IMG_SHAPE = IMG_SIZE + (3,)\n",
    "MobileNetV2 = tf.keras.applications.MobileNetV2(input_shape=IMG_SHAPE, include_top=False, weights='imagenet')\n",
    "\n",
    "MobileNetV2.trainable = False"
   ]
  },
  {
   "cell_type": "code",
   "execution_count": 5,
   "metadata": {
    "id": "ZTP4RGeuze0i"
   },
   "outputs": [],
   "source": [
    "# mendefinisikan modelKu\n",
    "\n",
    "inputs = tf.keras.Input(shape=(160, 160, 3))\n",
    "x = tf.keras.layers.Rescaling(1./127.5, offset=-1)(inputs)\n",
    "x = MobileNetV2(x, training=False)\n",
    "x = tf.keras.layers.GlobalAveragePooling2D()(x)\n",
    "outputs = tf.keras.layers.Dense(1,activation='sigmoid')(x)\n",
    "\n",
    "modelKu = tf.keras.Model(inputs, outputs)"
   ]
  },
  {
   "cell_type": "code",
   "execution_count": 6,
   "metadata": {
    "id": "77IYaA5w3Nc7"
   },
   "outputs": [],
   "source": [
    "base_learning_rate = 0.0001\n",
    "modelKu.compile(optimizer=tf.keras.optimizers.Adam(learning_rate=base_learning_rate),\n",
    "              loss=tf.keras.losses.BinaryCrossentropy(from_logits=False),\n",
    "              metrics=['accuracy'])"
   ]
  },
  {
   "cell_type": "code",
   "execution_count": 7,
   "metadata": {
    "colab": {
     "base_uri": "https://localhost:8080/"
    },
    "id": "BddXyMUT4B1R",
    "outputId": "c30666a6-f11e-4757-f27b-774703c3c79f"
   },
   "outputs": [
    {
     "name": "stdout",
     "output_type": "stream",
     "text": [
      "32/32 [==============================] - 14s 68ms/step - loss: 0.7657 - accuracy: 0.5370\n"
     ]
    }
   ],
   "source": [
    "# coba performansi model pada validation_dataset sebelum dilakukan proses training\n",
    "\n",
    "loss0, accuracy0 = modelKu.evaluate(validation_dataset)"
   ]
  },
  {
   "cell_type": "code",
   "execution_count": 8,
   "metadata": {
    "colab": {
     "base_uri": "https://localhost:8080/"
    },
    "id": "5SvifLuA4RSj",
    "outputId": "6d29c180-0d1b-4cab-89b9-cc4917b78ddd"
   },
   "outputs": [
    {
     "name": "stdout",
     "output_type": "stream",
     "text": [
      "Epoch 1/5\n",
      "63/63 [==============================] - 11s 111ms/step - loss: 0.6125 - accuracy: 0.6770 - val_loss: 0.4704 - val_accuracy: 0.8100\n",
      "Epoch 2/5\n",
      "63/63 [==============================] - 6s 90ms/step - loss: 0.4051 - accuracy: 0.8560 - val_loss: 0.3320 - val_accuracy: 0.9110\n",
      "Epoch 3/5\n",
      "63/63 [==============================] - 6s 89ms/step - loss: 0.2986 - accuracy: 0.9195 - val_loss: 0.2547 - val_accuracy: 0.9440\n",
      "Epoch 4/5\n",
      "63/63 [==============================] - 6s 91ms/step - loss: 0.2371 - accuracy: 0.9380 - val_loss: 0.2079 - val_accuracy: 0.9520\n",
      "Epoch 5/5\n",
      "63/63 [==============================] - 6s 91ms/step - loss: 0.1981 - accuracy: 0.9480 - val_loss: 0.1765 - val_accuracy: 0.9640\n"
     ]
    }
   ],
   "source": [
    "# Lakukan proses training\n",
    "\n",
    "initial_epochs = 5\n",
    "history = modelKu.fit(train_dataset, epochs=initial_epochs, validation_data=validation_dataset)"
   ]
  },
  {
   "cell_type": "code",
   "execution_count": 9,
   "metadata": {
    "colab": {
     "base_uri": "https://localhost:8080/"
    },
    "id": "ZVLxdaxkI3je",
    "outputId": "d25da6a5-fb06-4093-aa76-c118a494a286"
   },
   "outputs": [
    {
     "name": "stdout",
     "output_type": "stream",
     "text": [
      "INFO:tensorflow:Assets written to: /tmp/tmpqbcs5cn8/assets\n"
     ]
    },
    {
     "name": "stderr",
     "output_type": "stream",
     "text": [
      "WARNING:absl:Buffer deduplication procedure will be skipped when flatbuffer library is not properly loaded\n"
     ]
    }
   ],
   "source": [
    "converter = tf.lite.TFLiteConverter.from_keras_model(modelKu)\n",
    "tflite_model = converter.convert()"
   ]
  },
  {
   "cell_type": "code",
   "execution_count": 10,
   "metadata": {
    "id": "iDLdn1kSI21Q"
   },
   "outputs": [],
   "source": [
    "with open('modelKu.tflite', 'wb') as f:\n",
    "  f.write(tflite_model)"
   ]
  }
 ],
 "metadata": {
  "accelerator": "GPU",
  "colab": {
   "collapsed_sections": [],
   "name": "LiteToAndroid.ipynb",
   "provenance": []
  },
  "kernelspec": {
   "display_name": "Python 3 (ipykernel)",
   "language": "python",
   "name": "python3"
  },
  "language_info": {
   "codemirror_mode": {
    "name": "ipython",
    "version": 3
   },
   "file_extension": ".py",
   "mimetype": "text/x-python",
   "name": "python",
   "nbconvert_exporter": "python",
   "pygments_lexer": "ipython3",
   "version": "3.9.12"
  }
 },
 "nbformat": 4,
 "nbformat_minor": 1
}
