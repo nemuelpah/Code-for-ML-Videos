{
 "cells": [
  {
   "cell_type": "code",
   "execution_count": 1,
   "metadata": {},
   "outputs": [],
   "source": [
    "#from PIL import Image\n",
    "\n",
    "#from keras.models import load_model\n",
    "#import numpy as np\n",
    "#from numpy import asarray\n",
    "#from numpy import expand_dims\n",
    "\n",
    "#import pickle\n",
    "import cv2\n",
    "import os\n",
    "import time"
   ]
  },
  {
   "cell_type": "code",
   "execution_count": 18,
   "metadata": {},
   "outputs": [],
   "source": [
    "labels=['smile','sleepy','sad']\n",
    "label='saya'\n",
    "mypath='training'\n",
    "nomor=1"
   ]
  },
  {
   "cell_type": "code",
   "execution_count": 19,
   "metadata": {},
   "outputs": [],
   "source": [
    "namafile=os.path.join(mypath,labels[0],labels[0]+str(nomor)+'.'+'jpg')"
   ]
  },
  {
   "cell_type": "code",
   "execution_count": 20,
   "metadata": {},
   "outputs": [
    {
     "data": {
      "text/plain": [
       "'training\\\\smile\\\\smile1.jpg'"
      ]
     },
     "execution_count": 20,
     "metadata": {},
     "output_type": "execute_result"
    }
   ],
   "source": [
    "namafile"
   ]
  },
  {
   "cell_type": "code",
   "execution_count": null,
   "metadata": {},
   "outputs": [],
   "source": [
    "cap = cv2.VideoCapture(0)\n",
    "\n",
    "for label in labels():\n",
    "    !mkdir('training\\\\'+label)\n",
    "    mypath='training'\n",
    "    print('Foto wajah {}'.format(label))\n",
    "    time.sleep(5)\n",
    "    for nomor in range(10):\n",
    "        _, gbr1 = cap.read()\n",
    "        namafile=os.path.join(mypath,label,label+str(nomor)+'.'+'jpg')\n",
    "        cv2.imwrite(namafile,gbr1)\n",
    "        time.sleep(2)\n",
    "        k = cv2.waitKey(5) & 0xFF\n",
    "        if k == 27:\n",
    "            break\n",
    "cap.release()\n",
    "        \n"
   ]
  }
 ],
 "metadata": {
  "kernelspec": {
   "display_name": "Python 3",
   "language": "python",
   "name": "python3"
  },
  "language_info": {
   "codemirror_mode": {
    "name": "ipython",
    "version": 3
   },
   "file_extension": ".py",
   "mimetype": "text/x-python",
   "name": "python",
   "nbconvert_exporter": "python",
   "pygments_lexer": "ipython3",
   "version": "3.7.4"
  }
 },
 "nbformat": 4,
 "nbformat_minor": 4
}
