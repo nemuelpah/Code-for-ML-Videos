{
 "cells": [
  {
   "cell_type": "code",
   "execution_count": 1,
   "metadata": {},
   "outputs": [],
   "source": [
    "import numpy as np\n",
    "\n",
    "from os import listdir\n",
    "from os.path import isdir\n",
    "from PIL import Image\n",
    "from matplotlib import pyplot\n",
    "from numpy import savez_compressed\n",
    "from numpy import load\n",
    "from numpy import asarray\n",
    "from numpy import load\n",
    "from numpy import expand_dims\n",
    "\n",
    "import matplotlib.pyplot as plt\n",
    "\n",
    "from keras.utils import np_utils\n",
    "from sklearn.preprocessing import LabelEncoder\n",
    "\n",
    "from tensorflow import keras\n",
    "from tensorflow.keras import layers\n",
    "from keras.models import Model\n",
    "from keras.layers import Input"
   ]
  },
  {
   "cell_type": "code",
   "execution_count": 2,
   "metadata": {},
   "outputs": [],
   "source": [
    "import cv2"
   ]
  },
  {
   "cell_type": "code",
   "execution_count": 3,
   "metadata": {},
   "outputs": [
    {
     "name": "stdout",
     "output_type": "stream",
     "text": [
      "WARNING:tensorflow:No training configuration found in the save file, so the model was *not* compiled. Compile it manually.\n"
     ]
    }
   ],
   "source": [
    "from keras.models import load_model\n",
    "HaarCascade = cv2.CascadeClassifier(cv2.samples.findFile(cv2.data.haarcascades + 'haarcascade_frontalface_default.xml'))\n",
    "MyFaceNet = load_model('facenet_keras.h5')"
   ]
  },
  {
   "cell_type": "code",
   "execution_count": 4,
   "metadata": {},
   "outputs": [],
   "source": [
    "def create_signature(directory):\n",
    "    signatures = list()\n",
    "    for filename in listdir(directory):\n",
    "        #path = directory + filename\n",
    "        \n",
    "        gbr1 = cv2.imread(directory + filename)\n",
    "    \n",
    "        wajah = HaarCascade.detectMultiScale(gbr1,1.1,4)\n",
    "    \n",
    "        if len(wajah)>0:\n",
    "            x1, y1, width, height = wajah[0]         \n",
    "        else:\n",
    "            x1, y1, width, height = 1, 1, 10, 10\n",
    "\n",
    "        x1, y1 = abs(x1), abs(y1)\n",
    "        x2, y2 = x1 + width, y1 + height\n",
    "\n",
    "        gbr = cv2.cvtColor(gbr1, cv2.COLOR_BGR2RGB)\n",
    "        gbr = Image.fromarray(gbr)                  # konversi dari OpenCV ke PIL\n",
    "        gbr_array = asarray(gbr)\n",
    "\n",
    "        face = gbr_array[y1:y2, x1:x2]                        \n",
    "\n",
    "        face = Image.fromarray(face)                       \n",
    "        face = face.resize((160,160))\n",
    "        face = asarray(face)\n",
    "\n",
    "        face = face.astype('float32')\n",
    "        mean, std = face.mean(), face.std()\n",
    "        face = (face - mean) / std\n",
    "\n",
    "        face = expand_dims(face, axis=0)\n",
    "        signature = MyFaceNet.predict(face)\n",
    "\n",
    "        signatures.append(signature)\n",
    "    return signatures"
   ]
  },
  {
   "cell_type": "code",
   "execution_count": 9,
   "metadata": {},
   "outputs": [],
   "source": [
    "def load_dataset(directory):\n",
    "    X, y = list(), list()\n",
    "    \n",
    "    for subdir in listdir(directory):\n",
    "        path = directory + subdir + '/'\n",
    "        \n",
    "        if not isdir(path):                           # skip any files that might be in the dir\n",
    "            continue\n",
    "        \n",
    "        signatures = create_signature(path)\n",
    "        labels = [subdir for _ in range(len(signatures))]\n",
    "        \n",
    "        X.extend(signatures)\n",
    "        y.extend(labels)\n",
    "        \n",
    "    return asarray(X), asarray(y)"
   ]
  },
  {
   "cell_type": "code",
   "execution_count": 10,
   "metadata": {},
   "outputs": [],
   "source": [
    "trainX, trainy = load_dataset('training/')"
   ]
  },
  {
   "cell_type": "code",
   "execution_count": 11,
   "metadata": {},
   "outputs": [],
   "source": [
    "trainX=np.squeeze(trainX, axis=1)"
   ]
  },
  {
   "cell_type": "code",
   "execution_count": null,
   "metadata": {},
   "outputs": [],
   "source": [
    "trainXX.shape"
   ]
  },
  {
   "cell_type": "code",
   "execution_count": 12,
   "metadata": {},
   "outputs": [],
   "source": [
    "encoder = LabelEncoder()\n",
    "encoder.fit(trainy)\n",
    "encoded_Y = encoder.transform(trainy)               # konversi label ke integer\n",
    "\n",
    "y = np_utils.to_categorical(encoded_Y)         # konversi integer ke one_hot_matrix"
   ]
  },
  {
   "cell_type": "code",
   "execution_count": null,
   "metadata": {},
   "outputs": [],
   "source": [
    "y.shape"
   ]
  },
  {
   "cell_type": "code",
   "execution_count": 13,
   "metadata": {},
   "outputs": [],
   "source": [
    "model = keras.Sequential()\n",
    "\n",
    "model.add(layers.Dense(20, input_dim=128, activation='relu'))\n",
    "model.add(layers.Dense(10, activation='relu'))\n",
    "model.add(layers.Dense(10, activation='relu'))\n",
    "model.add(layers.Dense(3, activation='softmax'))"
   ]
  },
  {
   "cell_type": "code",
   "execution_count": 14,
   "metadata": {},
   "outputs": [],
   "source": [
    "opt = keras.optimizers.Adam(learning_rate=0.001)\n",
    "model.compile(loss=\"categorical_crossentropy\", optimizer=opt, metrics=['accuracy'])"
   ]
  },
  {
   "cell_type": "code",
   "execution_count": 15,
   "metadata": {},
   "outputs": [
    {
     "name": "stdout",
     "output_type": "stream",
     "text": [
      "Epoch 1/100\n",
      "1/1 [==============================] - 0s 4ms/step - loss: 1.1255 - accuracy: 0.3333\n",
      "Epoch 2/100\n",
      "1/1 [==============================] - 0s 2ms/step - loss: 1.1065 - accuracy: 0.3556\n",
      "Epoch 3/100\n",
      "1/1 [==============================] - 0s 2ms/step - loss: 1.0890 - accuracy: 0.4111\n",
      "Epoch 4/100\n",
      "1/1 [==============================] - 0s 2ms/step - loss: 1.0735 - accuracy: 0.4889\n",
      "Epoch 5/100\n",
      "1/1 [==============================] - 0s 2ms/step - loss: 1.0597 - accuracy: 0.5222\n",
      "Epoch 6/100\n",
      "1/1 [==============================] - 0s 997us/step - loss: 1.0467 - accuracy: 0.5333\n",
      "Epoch 7/100\n",
      "1/1 [==============================] - 0s 2ms/step - loss: 1.0365 - accuracy: 0.5333\n",
      "Epoch 8/100\n",
      "1/1 [==============================] - 0s 2ms/step - loss: 1.0280 - accuracy: 0.5333\n",
      "Epoch 9/100\n",
      "1/1 [==============================] - 0s 998us/step - loss: 1.0194 - accuracy: 0.5556\n",
      "Epoch 10/100\n",
      "1/1 [==============================] - 0s 2ms/step - loss: 1.0113 - accuracy: 0.5556\n",
      "Epoch 11/100\n",
      "1/1 [==============================] - 0s 2ms/step - loss: 1.0033 - accuracy: 0.5667\n",
      "Epoch 12/100\n",
      "1/1 [==============================] - 0s 2ms/step - loss: 0.9958 - accuracy: 0.5778\n",
      "Epoch 13/100\n",
      "1/1 [==============================] - 0s 2ms/step - loss: 0.9883 - accuracy: 0.5778\n",
      "Epoch 14/100\n",
      "1/1 [==============================] - 0s 2ms/step - loss: 0.9802 - accuracy: 0.5778\n",
      "Epoch 15/100\n",
      "1/1 [==============================] - 0s 997us/step - loss: 0.9725 - accuracy: 0.5778\n",
      "Epoch 16/100\n",
      "1/1 [==============================] - 0s 993us/step - loss: 0.9649 - accuracy: 0.5778\n",
      "Epoch 17/100\n",
      "1/1 [==============================] - 0s 1ms/step - loss: 0.9565 - accuracy: 0.5889\n",
      "Epoch 18/100\n",
      "1/1 [==============================] - 0s 990us/step - loss: 0.9478 - accuracy: 0.5889\n",
      "Epoch 19/100\n",
      "1/1 [==============================] - 0s 997us/step - loss: 0.9386 - accuracy: 0.5889\n",
      "Epoch 20/100\n",
      "1/1 [==============================] - 0s 995us/step - loss: 0.9289 - accuracy: 0.6000\n",
      "Epoch 21/100\n",
      "1/1 [==============================] - 0s 995us/step - loss: 0.9190 - accuracy: 0.6222\n",
      "Epoch 22/100\n",
      "1/1 [==============================] - 0s 996us/step - loss: 0.9085 - accuracy: 0.6333\n",
      "Epoch 23/100\n",
      "1/1 [==============================] - 0s 3ms/step - loss: 0.8974 - accuracy: 0.6333\n",
      "Epoch 24/100\n",
      "1/1 [==============================] - 0s 998us/step - loss: 0.8864 - accuracy: 0.6333\n",
      "Epoch 25/100\n",
      "1/1 [==============================] - 0s 2ms/step - loss: 0.8753 - accuracy: 0.6333\n",
      "Epoch 26/100\n",
      "1/1 [==============================] - 0s 2ms/step - loss: 0.8638 - accuracy: 0.6333\n",
      "Epoch 27/100\n",
      "1/1 [==============================] - 0s 2ms/step - loss: 0.8520 - accuracy: 0.6333\n",
      "Epoch 28/100\n",
      "1/1 [==============================] - 0s 3ms/step - loss: 0.8403 - accuracy: 0.6333\n",
      "Epoch 29/100\n",
      "1/1 [==============================] - 0s 2ms/step - loss: 0.8286 - accuracy: 0.6333\n",
      "Epoch 30/100\n",
      "1/1 [==============================] - 0s 2ms/step - loss: 0.8166 - accuracy: 0.6444\n",
      "Epoch 31/100\n",
      "1/1 [==============================] - 0s 995us/step - loss: 0.8046 - accuracy: 0.6444\n",
      "Epoch 32/100\n",
      "1/1 [==============================] - 0s 2ms/step - loss: 0.7927 - accuracy: 0.6556\n",
      "Epoch 33/100\n",
      "1/1 [==============================] - 0s 997us/step - loss: 0.7808 - accuracy: 0.6444\n",
      "Epoch 34/100\n",
      "1/1 [==============================] - 0s 2ms/step - loss: 0.7686 - accuracy: 0.6444\n",
      "Epoch 35/100\n",
      "1/1 [==============================] - 0s 3ms/step - loss: 0.7564 - accuracy: 0.6667\n",
      "Epoch 36/100\n",
      "1/1 [==============================] - 0s 2ms/step - loss: 0.7443 - accuracy: 0.6778\n",
      "Epoch 37/100\n",
      "1/1 [==============================] - 0s 3ms/step - loss: 0.7323 - accuracy: 0.6889\n",
      "Epoch 38/100\n",
      "1/1 [==============================] - 0s 2ms/step - loss: 0.7203 - accuracy: 0.7000\n",
      "Epoch 39/100\n",
      "1/1 [==============================] - 0s 996us/step - loss: 0.7083 - accuracy: 0.7111\n",
      "Epoch 40/100\n",
      "1/1 [==============================] - 0s 2ms/step - loss: 0.6959 - accuracy: 0.7222\n",
      "Epoch 41/100\n",
      "1/1 [==============================] - 0s 2ms/step - loss: 0.6832 - accuracy: 0.7333\n",
      "Epoch 42/100\n",
      "1/1 [==============================] - 0s 999us/step - loss: 0.6707 - accuracy: 0.7333\n",
      "Epoch 43/100\n",
      "1/1 [==============================] - 0s 2ms/step - loss: 0.6580 - accuracy: 0.7444\n",
      "Epoch 44/100\n",
      "1/1 [==============================] - 0s 2ms/step - loss: 0.6455 - accuracy: 0.7667\n",
      "Epoch 45/100\n",
      "1/1 [==============================] - 0s 4ms/step - loss: 0.6329 - accuracy: 0.7889\n",
      "Epoch 46/100\n",
      "1/1 [==============================] - 0s 996us/step - loss: 0.6201 - accuracy: 0.8000\n",
      "Epoch 47/100\n",
      "1/1 [==============================] - 0s 997us/step - loss: 0.6072 - accuracy: 0.8222\n",
      "Epoch 48/100\n",
      "1/1 [==============================] - 0s 2ms/step - loss: 0.5943 - accuracy: 0.8333\n",
      "Epoch 49/100\n",
      "1/1 [==============================] - 0s 2ms/step - loss: 0.5814 - accuracy: 0.8444\n",
      "Epoch 50/100\n",
      "1/1 [==============================] - 0s 3ms/step - loss: 0.5684 - accuracy: 0.8556\n",
      "Epoch 51/100\n",
      "1/1 [==============================] - 0s 2ms/step - loss: 0.5556 - accuracy: 0.8889\n",
      "Epoch 52/100\n",
      "1/1 [==============================] - 0s 2ms/step - loss: 0.5429 - accuracy: 0.8889\n",
      "Epoch 53/100\n",
      "1/1 [==============================] - 0s 999us/step - loss: 0.5300 - accuracy: 0.8889\n",
      "Epoch 54/100\n",
      "1/1 [==============================] - 0s 2ms/step - loss: 0.5169 - accuracy: 0.8889\n",
      "Epoch 55/100\n",
      "1/1 [==============================] - 0s 2ms/step - loss: 0.5040 - accuracy: 0.8889\n",
      "Epoch 56/100\n",
      "1/1 [==============================] - 0s 997us/step - loss: 0.4912 - accuracy: 0.9000\n",
      "Epoch 57/100\n",
      "1/1 [==============================] - 0s 3ms/step - loss: 0.4784 - accuracy: 0.9111\n",
      "Epoch 58/100\n",
      "1/1 [==============================] - 0s 2ms/step - loss: 0.4656 - accuracy: 0.9222\n",
      "Epoch 59/100\n",
      "1/1 [==============================] - 0s 2ms/step - loss: 0.4527 - accuracy: 0.9222\n",
      "Epoch 60/100\n",
      "1/1 [==============================] - 0s 994us/step - loss: 0.4398 - accuracy: 0.9333\n",
      "Epoch 61/100\n",
      "1/1 [==============================] - 0s 4ms/step - loss: 0.4268 - accuracy: 0.9333\n",
      "Epoch 62/100\n",
      "1/1 [==============================] - 0s 2ms/step - loss: 0.4139 - accuracy: 0.9444\n",
      "Epoch 63/100\n",
      "1/1 [==============================] - 0s 992us/step - loss: 0.4013 - accuracy: 0.9444\n",
      "Epoch 64/100\n",
      "1/1 [==============================] - 0s 998us/step - loss: 0.3889 - accuracy: 0.9556\n",
      "Epoch 65/100\n",
      "1/1 [==============================] - 0s 2ms/step - loss: 0.3765 - accuracy: 0.9556\n",
      "Epoch 66/100\n",
      "1/1 [==============================] - 0s 2ms/step - loss: 0.3642 - accuracy: 0.9667\n",
      "Epoch 67/100\n",
      "1/1 [==============================] - 0s 2ms/step - loss: 0.3521 - accuracy: 0.9667\n",
      "Epoch 68/100\n",
      "1/1 [==============================] - 0s 2ms/step - loss: 0.3401 - accuracy: 0.9667\n",
      "Epoch 69/100\n",
      "1/1 [==============================] - 0s 999us/step - loss: 0.3283 - accuracy: 0.9667\n",
      "Epoch 70/100\n",
      "1/1 [==============================] - 0s 3ms/step - loss: 0.3167 - accuracy: 0.9667\n",
      "Epoch 71/100\n",
      "1/1 [==============================] - ETA: 0s - loss: 0.3053 - accuracy: 0.96 - 0s 2ms/step - loss: 0.3053 - accuracy: 0.9667\n",
      "Epoch 72/100\n",
      "1/1 [==============================] - 0s 997us/step - loss: 0.2940 - accuracy: 0.9667\n",
      "Epoch 73/100\n",
      "1/1 [==============================] - 0s 2ms/step - loss: 0.2830 - accuracy: 0.9667\n",
      "Epoch 74/100\n",
      "1/1 [==============================] - 0s 998us/step - loss: 0.2721 - accuracy: 0.9667\n",
      "Epoch 75/100\n",
      "1/1 [==============================] - 0s 2ms/step - loss: 0.2615 - accuracy: 0.9667\n",
      "Epoch 76/100\n",
      "1/1 [==============================] - 0s 2ms/step - loss: 0.2512 - accuracy: 0.9667\n",
      "Epoch 77/100\n",
      "1/1 [==============================] - 0s 2ms/step - loss: 0.2411 - accuracy: 0.9667\n",
      "Epoch 78/100\n",
      "1/1 [==============================] - 0s 999us/step - loss: 0.2314 - accuracy: 0.9667\n",
      "Epoch 79/100\n",
      "1/1 [==============================] - 0s 998us/step - loss: 0.2220 - accuracy: 0.9667\n",
      "Epoch 80/100\n",
      "1/1 [==============================] - 0s 2ms/step - loss: 0.2128 - accuracy: 0.9667\n",
      "Epoch 81/100\n",
      "1/1 [==============================] - 0s 2ms/step - loss: 0.2040 - accuracy: 0.9667\n",
      "Epoch 82/100\n",
      "1/1 [==============================] - 0s 2ms/step - loss: 0.1955 - accuracy: 0.9889\n",
      "Epoch 83/100\n"
     ]
    },
    {
     "name": "stdout",
     "output_type": "stream",
     "text": [
      "1/1 [==============================] - 0s 2ms/step - loss: 0.1873 - accuracy: 0.9889\n",
      "Epoch 84/100\n",
      "1/1 [==============================] - 0s 2ms/step - loss: 0.1793 - accuracy: 0.9889\n",
      "Epoch 85/100\n",
      "1/1 [==============================] - 0s 998us/step - loss: 0.1716 - accuracy: 0.9889\n",
      "Epoch 86/100\n",
      "1/1 [==============================] - 0s 2ms/step - loss: 0.1643 - accuracy: 0.9889\n",
      "Epoch 87/100\n",
      "1/1 [==============================] - 0s 2ms/step - loss: 0.1573 - accuracy: 0.9889\n",
      "Epoch 88/100\n",
      "1/1 [==============================] - 0s 3ms/step - loss: 0.1507 - accuracy: 0.9889\n",
      "Epoch 89/100\n",
      "1/1 [==============================] - 0s 998us/step - loss: 0.1443 - accuracy: 0.9889\n",
      "Epoch 90/100\n",
      "1/1 [==============================] - 0s 2ms/step - loss: 0.1382 - accuracy: 0.9889\n",
      "Epoch 91/100\n",
      "1/1 [==============================] - ETA: 0s - loss: 0.1324 - accuracy: 0.98 - 0s 2ms/step - loss: 0.1324 - accuracy: 0.9889\n",
      "Epoch 92/100\n",
      "1/1 [==============================] - 0s 997us/step - loss: 0.1269 - accuracy: 0.9889\n",
      "Epoch 93/100\n",
      "1/1 [==============================] - 0s 997us/step - loss: 0.1217 - accuracy: 0.9889\n",
      "Epoch 94/100\n",
      "1/1 [==============================] - 0s 997us/step - loss: 0.1168 - accuracy: 0.9889\n",
      "Epoch 95/100\n",
      "1/1 [==============================] - 0s 996us/step - loss: 0.1122 - accuracy: 0.9889\n",
      "Epoch 96/100\n",
      "1/1 [==============================] - 0s 4ms/step - loss: 0.1077 - accuracy: 0.9889\n",
      "Epoch 97/100\n",
      "1/1 [==============================] - 0s 2ms/step - loss: 0.1035 - accuracy: 0.9889\n",
      "Epoch 98/100\n",
      "1/1 [==============================] - 0s 2ms/step - loss: 0.0995 - accuracy: 0.9889\n",
      "Epoch 99/100\n",
      "1/1 [==============================] - 0s 2ms/step - loss: 0.0957 - accuracy: 0.9889\n",
      "Epoch 100/100\n",
      "1/1 [==============================] - 0s 2ms/step - loss: 0.0921 - accuracy: 0.9889\n"
     ]
    },
    {
     "data": {
      "text/plain": [
       "<tensorflow.python.keras.callbacks.History at 0x1aa2e534488>"
      ]
     },
     "execution_count": 15,
     "metadata": {},
     "output_type": "execute_result"
    }
   ],
   "source": [
    "model.fit(trainX, y, epochs=100, batch_size=150)"
   ]
  },
  {
   "cell_type": "code",
   "execution_count": 16,
   "metadata": {},
   "outputs": [],
   "source": [
    "model.save('modelSmile.h5')"
   ]
  },
  {
   "cell_type": "code",
   "execution_count": 18,
   "metadata": {},
   "outputs": [
    {
     "data": {
      "text/plain": [
       "array(['normal', 'normal', 'normal', 'normal', 'normal', 'normal',\n",
       "       'normal', 'normal', 'normal', 'normal', 'normal', 'normal',\n",
       "       'normal', 'normal', 'normal', 'normal', 'normal', 'normal',\n",
       "       'normal', 'normal', 'normal', 'normal', 'normal', 'normal',\n",
       "       'normal', 'normal', 'normal', 'normal', 'normal', 'normal',\n",
       "       'smile', 'smile', 'smile', 'smile', 'smile', 'smile', 'smile',\n",
       "       'smile', 'smile', 'smile', 'smile', 'smile', 'smile', 'smile',\n",
       "       'smile', 'smile', 'smile', 'smile', 'smile', 'smile', 'smile',\n",
       "       'smile', 'smile', 'smile', 'smile', 'smile', 'smile', 'smile',\n",
       "       'smile', 'smile', 'surprise', 'surprise', 'surprise', 'surprise',\n",
       "       'surprise', 'surprise', 'surprise', 'surprise', 'surprise',\n",
       "       'surprise', 'surprise', 'surprise', 'surprise', 'surprise',\n",
       "       'surprise', 'surprise', 'surprise', 'surprise', 'surprise',\n",
       "       'surprise', 'surprise', 'surprise', 'surprise', 'surprise',\n",
       "       'surprise', 'surprise', 'surprise', 'surprise', 'surprise',\n",
       "       'surprise'], dtype='<U8')"
      ]
     },
     "execution_count": 18,
     "metadata": {},
     "output_type": "execute_result"
    }
   ],
   "source": [
    "trainy"
   ]
  },
  {
   "cell_type": "code",
   "execution_count": null,
   "metadata": {},
   "outputs": [],
   "source": []
  }
 ],
 "metadata": {
  "kernelspec": {
   "display_name": "Python 3",
   "language": "python",
   "name": "python3"
  },
  "language_info": {
   "codemirror_mode": {
    "name": "ipython",
    "version": 3
   },
   "file_extension": ".py",
   "mimetype": "text/x-python",
   "name": "python",
   "nbconvert_exporter": "python",
   "pygments_lexer": "ipython3",
   "version": "3.7.4"
  }
 },
 "nbformat": 4,
 "nbformat_minor": 4
}
